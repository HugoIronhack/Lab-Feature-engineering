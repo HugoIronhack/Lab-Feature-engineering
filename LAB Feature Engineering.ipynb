{
 "cells": [
  {
   "cell_type": "code",
   "execution_count": 1,
   "id": "154ba1e0",
   "metadata": {},
   "outputs": [],
   "source": [
    "import pandas as pd"
   ]
  },
  {
   "cell_type": "code",
   "execution_count": 2,
   "id": "c9049315",
   "metadata": {},
   "outputs": [
    {
     "name": "stderr",
     "output_type": "stream",
     "text": [
      "/var/folders/2n/45mrq41x2yq_l53c6v6v5qnc0000gn/T/ipykernel_63042/1786901675.py:1: DtypeWarning: Columns (8) have mixed types. Specify dtype option on import or set low_memory=False.\n",
      "  df = pd.read_csv('learningSet.csv')\n"
     ]
    }
   ],
   "source": [
    "df = pd.read_csv('learningSet.csv')"
   ]
  },
  {
   "cell_type": "code",
   "execution_count": 3,
   "id": "38f7a9da",
   "metadata": {},
   "outputs": [
    {
     "data": {
      "text/html": [
       "<div>\n",
       "<style scoped>\n",
       "    .dataframe tbody tr th:only-of-type {\n",
       "        vertical-align: middle;\n",
       "    }\n",
       "\n",
       "    .dataframe tbody tr th {\n",
       "        vertical-align: top;\n",
       "    }\n",
       "\n",
       "    .dataframe thead th {\n",
       "        text-align: right;\n",
       "    }\n",
       "</style>\n",
       "<table border=\"1\" class=\"dataframe\">\n",
       "  <thead>\n",
       "    <tr style=\"text-align: right;\">\n",
       "      <th></th>\n",
       "      <th>ODATEDW</th>\n",
       "      <th>OSOURCE</th>\n",
       "      <th>TCODE</th>\n",
       "      <th>STATE</th>\n",
       "      <th>ZIP</th>\n",
       "      <th>MAILCODE</th>\n",
       "      <th>PVASTATE</th>\n",
       "      <th>DOB</th>\n",
       "      <th>NOEXCH</th>\n",
       "      <th>RECINHSE</th>\n",
       "      <th>...</th>\n",
       "      <th>TARGET_D</th>\n",
       "      <th>HPHONE_D</th>\n",
       "      <th>RFA_2R</th>\n",
       "      <th>RFA_2F</th>\n",
       "      <th>RFA_2A</th>\n",
       "      <th>MDMAUD_R</th>\n",
       "      <th>MDMAUD_F</th>\n",
       "      <th>MDMAUD_A</th>\n",
       "      <th>CLUSTER2</th>\n",
       "      <th>GEOCODE2</th>\n",
       "    </tr>\n",
       "  </thead>\n",
       "  <tbody>\n",
       "    <tr>\n",
       "      <th>0</th>\n",
       "      <td>8901</td>\n",
       "      <td>GRI</td>\n",
       "      <td>0</td>\n",
       "      <td>IL</td>\n",
       "      <td>61081</td>\n",
       "      <td></td>\n",
       "      <td></td>\n",
       "      <td>3712</td>\n",
       "      <td>0</td>\n",
       "      <td></td>\n",
       "      <td>...</td>\n",
       "      <td>0.0</td>\n",
       "      <td>0</td>\n",
       "      <td>L</td>\n",
       "      <td>4</td>\n",
       "      <td>E</td>\n",
       "      <td>X</td>\n",
       "      <td>X</td>\n",
       "      <td>X</td>\n",
       "      <td>39.0</td>\n",
       "      <td>C</td>\n",
       "    </tr>\n",
       "    <tr>\n",
       "      <th>1</th>\n",
       "      <td>9401</td>\n",
       "      <td>BOA</td>\n",
       "      <td>1</td>\n",
       "      <td>CA</td>\n",
       "      <td>91326</td>\n",
       "      <td></td>\n",
       "      <td></td>\n",
       "      <td>5202</td>\n",
       "      <td>0</td>\n",
       "      <td></td>\n",
       "      <td>...</td>\n",
       "      <td>0.0</td>\n",
       "      <td>0</td>\n",
       "      <td>L</td>\n",
       "      <td>2</td>\n",
       "      <td>G</td>\n",
       "      <td>X</td>\n",
       "      <td>X</td>\n",
       "      <td>X</td>\n",
       "      <td>1.0</td>\n",
       "      <td>A</td>\n",
       "    </tr>\n",
       "    <tr>\n",
       "      <th>2</th>\n",
       "      <td>9001</td>\n",
       "      <td>AMH</td>\n",
       "      <td>1</td>\n",
       "      <td>NC</td>\n",
       "      <td>27017</td>\n",
       "      <td></td>\n",
       "      <td></td>\n",
       "      <td>0</td>\n",
       "      <td>0</td>\n",
       "      <td></td>\n",
       "      <td>...</td>\n",
       "      <td>0.0</td>\n",
       "      <td>1</td>\n",
       "      <td>L</td>\n",
       "      <td>4</td>\n",
       "      <td>E</td>\n",
       "      <td>X</td>\n",
       "      <td>X</td>\n",
       "      <td>X</td>\n",
       "      <td>60.0</td>\n",
       "      <td>C</td>\n",
       "    </tr>\n",
       "  </tbody>\n",
       "</table>\n",
       "<p>3 rows × 481 columns</p>\n",
       "</div>"
      ],
      "text/plain": [
       "   ODATEDW OSOURCE  TCODE STATE    ZIP MAILCODE PVASTATE   DOB NOEXCH  \\\n",
       "0     8901     GRI      0    IL  61081                    3712      0   \n",
       "1     9401     BOA      1    CA  91326                    5202      0   \n",
       "2     9001     AMH      1    NC  27017                       0      0   \n",
       "\n",
       "  RECINHSE  ... TARGET_D HPHONE_D RFA_2R RFA_2F RFA_2A MDMAUD_R  MDMAUD_F  \\\n",
       "0           ...      0.0        0      L      4      E        X         X   \n",
       "1           ...      0.0        0      L      2      G        X         X   \n",
       "2           ...      0.0        1      L      4      E        X         X   \n",
       "\n",
       "  MDMAUD_A CLUSTER2 GEOCODE2  \n",
       "0        X     39.0        C  \n",
       "1        X      1.0        A  \n",
       "2        X     60.0        C  \n",
       "\n",
       "[3 rows x 481 columns]"
      ]
     },
     "execution_count": 3,
     "metadata": {},
     "output_type": "execute_result"
    }
   ],
   "source": [
    "df.head(3)"
   ]
  },
  {
   "cell_type": "markdown",
   "id": "78a7e3c9",
   "metadata": {},
   "source": [
    "## Check for null values in the numerical columns."
   ]
  },
  {
   "cell_type": "code",
   "execution_count": 4,
   "id": "6de80253",
   "metadata": {},
   "outputs": [
    {
     "name": "stdout",
     "output_type": "stream",
     "text": [
      "ODATEDW         0\n",
      "TCODE           0\n",
      "DOB             0\n",
      "AGE         23665\n",
      "NUMCHLD     83026\n",
      "            ...  \n",
      "TARGET_B        0\n",
      "TARGET_D        0\n",
      "HPHONE_D        0\n",
      "RFA_2F          0\n",
      "CLUSTER2      132\n",
      "Length: 407, dtype: int64\n"
     ]
    }
   ],
   "source": [
    "# Get the numerical columns\n",
    "numerical_columns = df.select_dtypes(include='number').columns\n",
    "\n",
    "# Check for null values in the numerical columns\n",
    "numerical_null_counts = df[numerical_columns].isnull().sum()\n",
    "\n",
    "# Print the null value counts\n",
    "print(numerical_null_counts)\n"
   ]
  },
  {
   "cell_type": "code",
   "execution_count": 5,
   "id": "67d9f2cf",
   "metadata": {},
   "outputs": [
    {
     "data": {
      "text/plain": [
       "(95412, 481)"
      ]
     },
     "execution_count": 5,
     "metadata": {},
     "output_type": "execute_result"
    }
   ],
   "source": [
    "df.shape"
   ]
  },
  {
   "cell_type": "markdown",
   "id": "7665d196",
   "metadata": {},
   "source": [
    "## Use appropriate methods to clean the columns GEOCODE2, WEALTH1, ADI, DMA,and MSA."
   ]
  },
  {
   "cell_type": "code",
   "execution_count": 6,
   "id": "6e921758",
   "metadata": {},
   "outputs": [
    {
     "name": "stdout",
     "output_type": "stream",
     "text": [
      "       ODATEDW OSOURCE  TCODE STATE    ZIP MAILCODE PVASTATE   DOB NOEXCH  \\\n",
      "0         8901     GRI      0    IL  61081                    3712      0   \n",
      "1         9401     BOA      1    CA  91326                    5202      0   \n",
      "2         9001     AMH      1    NC  27017                       0      0   \n",
      "3         8701     BRY      0    CA  95953                    2801      0   \n",
      "4         8601              0    FL  33176                    2001      0   \n",
      "...        ...     ...    ...   ...    ...      ...      ...   ...    ...   \n",
      "95407     9601     ASE      1    AK  99504                       0      0   \n",
      "95408     9601     DCD      1    TX  77379                    5001      0   \n",
      "95409     9501     MBC      1    MI  48910                    3801      0   \n",
      "95410     8601     PRV      0    CA  91320                    4005      0   \n",
      "95411     8801     MCC      2    NC  28409                    1801      0   \n",
      "\n",
      "      RECINHSE  ... TARGET_D HPHONE_D RFA_2R RFA_2F RFA_2A MDMAUD_R  MDMAUD_F  \\\n",
      "0               ...      0.0        0      L      4      E        X         X   \n",
      "1               ...      0.0        0      L      2      G        X         X   \n",
      "2               ...      0.0        1      L      4      E        X         X   \n",
      "3               ...      0.0        1      L      4      E        X         X   \n",
      "4            X  ...      0.0        1      L      2      F        X         X   \n",
      "...        ...  ...      ...      ...    ...    ...    ...      ...       ...   \n",
      "95407           ...      0.0        0      L      1      G        X         X   \n",
      "95408           ...      0.0        1      L      1      F        X         X   \n",
      "95409           ...      0.0        1      L      3      E        X         X   \n",
      "95410        X  ...     18.0        1      L      4      F        X         X   \n",
      "95411        X  ...      0.0        1      L      1      G        C         1   \n",
      "\n",
      "      MDMAUD_A CLUSTER2 GEOCODE2  \n",
      "0            X     39.0        C  \n",
      "1            X      1.0        A  \n",
      "2            X     60.0        C  \n",
      "3            X     41.0        C  \n",
      "4            X     26.0        A  \n",
      "...        ...      ...      ...  \n",
      "95407        X     12.0        C  \n",
      "95408        X      2.0        A  \n",
      "95409        X     34.0        B  \n",
      "95410        X     11.0        A  \n",
      "95411        C     12.0        C  \n",
      "\n",
      "[95412 rows x 481 columns]\n"
     ]
    }
   ],
   "source": [
    "# Clean 'GEOCODE2'\n",
    "df['GEOCODE2'].fillna('Unknown', inplace=True)\n",
    "\n",
    "# Clean 'WEALTH1'\n",
    "df['WEALTH1'].fillna(df['WEALTH1'].median(), inplace=True)\n",
    "\n",
    "# Clean 'ADI'\n",
    "df['ADI'].fillna(df['ADI'].mean(), inplace=True)\n",
    "\n",
    "# Clean 'DMA'\n",
    "df['DMA'].fillna('Unknown', inplace=True)\n",
    "\n",
    "# Clean 'MSA'\n",
    "df['MSA'].fillna('Unknown', inplace=True)\n",
    "\n",
    "# Print the cleaned DataFrame\n",
    "print(df)\n"
   ]
  },
  {
   "cell_type": "markdown",
   "id": "8fed52fd",
   "metadata": {},
   "source": [
    "## Use appropriate EDA technique where ever necessary."
   ]
  },
  {
   "cell_type": "markdown",
   "id": "389372d1",
   "metadata": {},
   "source": [
    "#### Descriptive Statistics"
   ]
  },
  {
   "cell_type": "code",
   "execution_count": 7,
   "id": "44028177",
   "metadata": {
    "scrolled": true
   },
   "outputs": [
    {
     "name": "stdout",
     "output_type": "stream",
     "text": [
      "count     95412.0\n",
      "unique      207.0\n",
      "top         803.0\n",
      "freq       7296.0\n",
      "Name: DMA, dtype: float64\n"
     ]
    }
   ],
   "source": [
    "# Calculate summary statistics for a numerical column\n",
    "column_stats = df['DMA'].describe()\n",
    "print(column_stats)\n"
   ]
  },
  {
   "cell_type": "code",
   "execution_count": 8,
   "id": "46f96af0",
   "metadata": {},
   "outputs": [
    {
     "data": {
      "text/plain": [
       "ODATEDW       int64\n",
       "OSOURCE      object\n",
       "TCODE         int64\n",
       "STATE        object\n",
       "ZIP          object\n",
       "             ...   \n",
       "MDMAUD_R     object\n",
       "MDMAUD_F     object\n",
       "MDMAUD_A     object\n",
       "CLUSTER2    float64\n",
       "GEOCODE2     object\n",
       "Length: 481, dtype: object"
      ]
     },
     "execution_count": 8,
     "metadata": {},
     "output_type": "execute_result"
    }
   ],
   "source": [
    "df.dtypes"
   ]
  },
  {
   "cell_type": "markdown",
   "id": "52f3379c",
   "metadata": {},
   "source": [
    "#### Data Visualization"
   ]
  },
  {
   "cell_type": "code",
   "execution_count": 9,
   "id": "15fbcc99",
   "metadata": {},
   "outputs": [
    {
     "data": {
      "image/png": "[encoded data removed]",
      "text/plain": [
       "<Figure size 640x480 with 1 Axes>"
      ]
     },
     "metadata": {},
     "output_type": "display_data"
    }
   ],
   "source": [
    "import matplotlib.pyplot as plt\n",
    "\n",
    "# Create a histogram for a numerical column\n",
    "plt.hist(df['ODATEDW'])\n",
    "plt.xlabel('Values')\n",
    "plt.ylabel('Frequency')\n",
    "plt.title('Histogram of ODATEDW')\n",
    "plt.show()\n"
   ]
  },
  {
   "cell_type": "markdown",
   "id": "2b9616c6",
   "metadata": {},
   "source": [
    "#### Data Cleaning"
   ]
  },
  {
   "cell_type": "code",
   "execution_count": 10,
   "id": "d19811c9",
   "metadata": {},
   "outputs": [
    {
     "name": "stdout",
     "output_type": "stream",
     "text": [
      "ODATEDW       0\n",
      "OSOURCE       0\n",
      "TCODE         0\n",
      "STATE         0\n",
      "ZIP           0\n",
      "           ... \n",
      "MDMAUD_R      0\n",
      "MDMAUD_F      0\n",
      "MDMAUD_A      0\n",
      "CLUSTER2    132\n",
      "GEOCODE2      0\n",
      "Length: 481, dtype: int64\n"
     ]
    }
   ],
   "source": [
    "# Check for missing values in the dataset\n",
    "missing_values_count = df.isnull().sum()\n",
    "print(missing_values_count)\n",
    "\n",
    "# Handle missing values in a column\n",
    "df['DMA'].fillna(1, inplace=True)  \n",
    "\n",
    "# Remove duplicates from the dataset\n",
    "df.drop_duplicates(inplace=True)\n"
   ]
  },
  {
   "cell_type": "markdown",
   "id": "99f9a79f",
   "metadata": {},
   "source": [
    "#### Correlation Analysis:"
   ]
  },
  {
   "cell_type": "code",
   "execution_count": 11,
   "id": "953621ec",
   "metadata": {},
   "outputs": [],
   "source": [
    "# Calculate the correlation matrix\n",
    "# correlation_matrix = df.corr()\n",
    "\n",
    "# Plot a heatmap of the correlation matrix\n",
    "#import seaborn as sns\n",
    "#sns.heatmap(correlation_matrix, annot=True)\n",
    "#plt.title('Correlation Matrix')\n",
    "#plt.show()  \n",
    "\n",
    "#doesnt work yet\n"
   ]
  },
  {
   "cell_type": "markdown",
   "id": "0daf38eb",
   "metadata": {},
   "source": [
    "#### Outlier Detection"
   ]
  },
  {
   "cell_type": "code",
   "execution_count": 16,
   "id": "bdc2eca4",
   "metadata": {},
   "outputs": [
    {
     "data": {
      "image/png": "[encoded data removed]",
      "text/plain": [
       "<Figure size 640x480 with 1 Axes>"
      ]
     },
     "metadata": {},
     "output_type": "display_data"
    }
   ],
   "source": [
    "# Identify outliers using box plots\n",
    "import numpy as np\n",
    "plt.boxplot(df['ODATEDW'])\n",
    "plt.xlabel('ODATEDW')\n",
    "plt.title('Boxplot of column_name')\n",
    "plt.show()\n",
    "\n",
    "# Detect outliers using z-scores\n",
    "from scipy.stats import zscore\n",
    "outliers = df[(np.abs(zscore(df['ODATEDW'])) > 1)]\n"
   ]
  },
  {
   "cell_type": "markdown",
   "id": "23794dfd",
   "metadata": {},
   "source": [
    "#### Data Segmentation:"
   ]
  },
  {
   "cell_type": "code",
   "execution_count": 18,
   "id": "1eecff9c",
   "metadata": {},
   "outputs": [
    {
     "name": "stdout",
     "output_type": "stream",
     "text": [
      "MBC    4539\n",
      "SYN    3563\n",
      "AML    3430\n",
      "BHG    3324\n",
      "IMP    2986\n",
      "       ... \n",
      "MDD       1\n",
      "NRM       1\n",
      "HDP       1\n",
      "CRP       1\n",
      "VIC       1\n",
      "Name: OSOURCE, Length: 896, dtype: int64\n",
      "OSOURCE\n",
      "       9132.870690\n",
      "AAA    8901.000000\n",
      "AAD    8769.421053\n",
      "AAM    9001.000000\n",
      "ABC    9277.470588\n",
      "          ...     \n",
      "YAN    8601.000000\n",
      "YKA    9595.230769\n",
      "YKD    9501.000000\n",
      "YNF    9001.000000\n",
      "ZOY    9101.000000\n",
      "Name: ODATEDW, Length: 896, dtype: float64\n"
     ]
    }
   ],
   "source": [
    "# Segment the data based on a categorical column\n",
    "segment_counts = df['OSOURCE'].value_counts()\n",
    "print(segment_counts)\n",
    "\n",
    "# Analyze a numerical column by different segments\n",
    "segment_means = df.groupby('OSOURCE')['ODATEDW'].mean()\n",
    "print(segment_means)\n"
   ]
  },
  {
   "cell_type": "code",
   "execution_count": null,
   "id": "80f72329",
   "metadata": {},
   "outputs": [],
   "source": []
  }
 ],
 "metadata": {
  "kernelspec": {
   "display_name": "Python 3 (ipykernel)",
   "language": "python",
   "name": "python3"
  },
  "language_info": {
   "codemirror_mode": {
    "name": "ipython",
    "version": 3
   },
   "file_extension": ".py",
   "mimetype": "text/x-python",
   "name": "python",
   "nbconvert_exporter": "python",
   "pygments_lexer": "ipython3",
   "version": "3.9.13"
  }
 },
 "nbformat": 4,
 "nbformat_minor": 5
}
